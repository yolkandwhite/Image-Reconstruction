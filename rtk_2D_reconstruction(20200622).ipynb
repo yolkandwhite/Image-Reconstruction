{
 "cells": [
  {
   "cell_type": "markdown",
   "metadata": {},
   "source": [
    "## < save sinogram in .mha format >"
   ]
  },
  {
   "cell_type": "code",
   "execution_count": 33,
   "metadata": {},
   "outputs": [
    {
     "name": "stdout",
     "output_type": "stream",
     "text": [
      "original sinogram shape :  (864, 361)\n",
      "transposed sinogram shape :  (361, 864)\n",
      "transposed sinogram newaxis :  (361, 1, 864)\n",
      "add two more rows :  (361, 3, 864)\n"
     ]
    }
   ],
   "source": [
    "import matplotlib.image\n",
    "import matplotlib.pyplot as plt\n",
    "%matplotlib inline\n",
    "\n",
    "from PIL import Image\n",
    "import numpy as np\n",
    "import SimpleITK as sitk\n",
    "import itk\n",
    "\n",
    "#load csv file and save it as png file\n",
    "sinogram = np.loadtxt('C:\\\\Users\\\\USER\\\\Desktop\\\\RP_lab\\\\XRF\\\\sinogram0514_Cylinder\\\\sinogram900.csv', delimiter=\",\", dtype=np.float32)\n",
    "\n",
    "sinogram = np.where(sinogram < 0, 0, sinogram)\n",
    "\n",
    "\n",
    "print(\"original sinogram shape : \", sinogram.shape)\n",
    "sinogram_T = np.transpose(sinogram)\n",
    "print(\"transposed sinogram shape : \", sinogram_T.shape)\n",
    "\n",
    "matplotlib.image.imsave('sinogram900.png', sinogram, cmap='gray')\n",
    "matplotlib.image.imsave('sinogram900_T.png', sinogram_T, cmap='gray')\n",
    "\n",
    "sinogram_T = sinogram_T[:, np.newaxis, :]\n",
    "print(\"transposed sinogram newaxis : \", sinogram_T.shape)\n",
    "# print(sinogram_T)\n",
    "\n",
    "sinogram_T = np.concatenate([sinogram_T, sinogram_T, sinogram_T], 1)\n",
    "print(\"add two more rows : \", sinogram_T.shape)\n",
    "\n",
    "proj2D_noset = sitk.GetImageFromArray(sinogram_T)\n",
    "\n",
    "# sinogram_T[:, 0, :] = 1e10\n",
    "# sinogram_T[:, 2, :] = 1e10\n",
    "\n",
    "proj2D = sitk.GetImageFromArray(sinogram_T)\n",
    "proj2D.SetSpacing([2, 2, 2])\n",
    "proj2D.SetOrigin([-863, -2, -863])\n",
    "\n",
    "# print(sinogram_T)\n",
    "\n",
    "writer = sitk.ImageFileWriter()\n",
    "writer.SetFileName('sinogram_T.mha')\n",
    "writer.Execute(proj2D)"
   ]
  },
  {
   "cell_type": "markdown",
   "metadata": {},
   "source": [
    "### 데이터 타입 확인"
   ]
  },
  {
   "cell_type": "code",
   "execution_count": 34,
   "metadata": {},
   "outputs": [
    {
     "name": "stdout",
     "output_type": "stream",
     "text": [
      "Image (00000248ACF60D30)\n",
      "  RTTI typeinfo:   class itk::Image<float,3>\n",
      "  Reference Count: 1\n",
      "  Modified Time: 3526\n",
      "  Debug: Off\n",
      "  Object Name: \n",
      "  Observers: \n",
      "    none\n",
      "  Source: (none)\n",
      "  Source output name: (none)\n",
      "  Release Data: Off\n",
      "  Data Released: False\n",
      "  Global Release Data: Off\n",
      "  PipelineMTime: 0\n",
      "  UpdateMTime: 0\n",
      "  RealTimeStamp: 0 seconds \n",
      "  LargestPossibleRegion: \n",
      "    Dimension: 3\n",
      "    Index: [0, 0, 0]\n",
      "    Size: [864, 3, 361]\n",
      "  BufferedRegion: \n",
      "    Dimension: 3\n",
      "    Index: [0, 0, 0]\n",
      "    Size: [864, 3, 361]\n",
      "  RequestedRegion: \n",
      "    Dimension: 3\n",
      "    Index: [0, 0, 0]\n",
      "    Size: [864, 3, 361]\n",
      "  Spacing: [2, 2, 2]\n",
      "  Origin: [-863, -2, -863]\n",
      "  Direction: \n",
      "1 0 0\n",
      "0 1 0\n",
      "0 0 1\n",
      "\n",
      "  IndexToPointMatrix: \n",
      "2 0 0\n",
      "0 2 0\n",
      "0 0 2\n",
      "\n",
      "  PointToIndexMatrix: \n",
      "0.5 0 0\n",
      "0 0.5 0\n",
      "0 0 0.5\n",
      "\n",
      "  Inverse Direction: \n",
      "1 0 0\n",
      "0 1 0\n",
      "0 0 1\n",
      "\n",
      "  PixelContainer: \n",
      "    ImportImageContainer (00000248B51FF000)\n",
      "      RTTI typeinfo:   class itk::ImportImageContainer<unsigned __int64,float>\n",
      "      Reference Count: 1\n",
      "      Modified Time: 3523\n",
      "      Debug: Off\n",
      "      Object Name: \n",
      "      Observers: \n",
      "        none\n",
      "      Pointer: 00000248BB1AA040\n",
      "      Container manages memory: true\n",
      "      Size: 935712\n",
      "      Capacity: 935712\n",
      "\n"
     ]
    }
   ],
   "source": [
    "print(proj2D)"
   ]
  },
  {
   "cell_type": "markdown",
   "metadata": {},
   "source": [
    "checking on sinogram.mha with itkwidgets"
   ]
  },
  {
   "cell_type": "code",
   "execution_count": 35,
   "metadata": {
    "scrolled": true
   },
   "outputs": [
    {
     "data": {
      "application/vnd.jupyter.widget-view+json": {
       "model_id": "c729a8bc4cdc4bac9ae6a2f091970fc2",
       "version_major": 2,
       "version_minor": 0
      },
      "text/plain": [
       "Viewer(geometries=[], gradient_opacity=0.22, point_sets=[], rendered_image=<itkImagePython.itkImageF3; proxy o…"
      ]
     },
     "metadata": {},
     "output_type": "display_data"
    }
   ],
   "source": [
    "#itkwidgets\n",
    "from itkwidgets import view\n",
    "image = itk.imread(\"C:/Users/USER/Jupyter Notebook/ITK-RTK/sinogram_T.mha\")\n",
    "view(image, ui_collapsed=True)"
   ]
  },
  {
   "cell_type": "markdown",
   "metadata": {},
   "source": [
    "## build geometry\n",
    "rtksimulatedgeometry -n 361 -o geometry.xml --sid 500 --sdd 0"
   ]
  },
  {
   "cell_type": "markdown",
   "metadata": {},
   "source": [
    "## after running rtkfdk with script\n",
    "rtkfdk -p . -r sinogram_T.mha -o fdk.mha -g geometry.xml --spacing 2 --dimension 864,1,864"
   ]
  },
  {
   "cell_type": "code",
   "execution_count": 37,
   "metadata": {},
   "outputs": [
    {
     "data": {
      "application/vnd.jupyter.widget-view+json": {
       "model_id": "e0d1d0b9536145fbac5387531131001c",
       "version_major": 2,
       "version_minor": 0
      },
      "text/plain": [
       "Viewer(geometries=[], gradient_opacity=0.22, point_sets=[], rendered_image=<itkImagePython.itkImageF3; proxy o…"
      ]
     },
     "metadata": {},
     "output_type": "display_data"
    }
   ],
   "source": [
    "image = itk.imread(\"C:/itk/bin/bin/Debug/fdk.mha\")\n",
    "view(image, ui_collapsed=True)"
   ]
  },
  {
   "cell_type": "code",
   "execution_count": 41,
   "metadata": {},
   "outputs": [
    {
     "data": {
      "text/plain": [
       "<matplotlib.colorbar.Colorbar at 0x248b73ace48>"
      ]
     },
     "execution_count": 41,
     "metadata": {},
     "output_type": "execute_result"
    },
    {
     "data": {
      "image/png": "[encoded data removed]",
      "text/plain": [
       "<Figure size 432x288 with 2 Axes>"
      ]
     },
     "metadata": {
      "needs_background": "light"
     },
     "output_type": "display_data"
    }
   ],
   "source": [
    "import SimpleITK as sitk\n",
    "image = sitk.ReadImage(\"C:/itk/bin/bin/Debug/fdk.mha\")\n",
    "img_arr = sitk.GetArrayFromImage(image)\n",
    "# print(img_arr, \"\\n\")\n",
    "# print(img_arr.shape)\n",
    "# print(img_arr)\n",
    "img_arr_sq = np.squeeze(img_arr, axis=1)\n",
    "# print(img_arr_sq.shape)\n",
    "\n",
    "img_arr_sq = img_arr_sq - np.min(img_arr_sq)\n",
    "img_arr_sq /= np.max(img_arr_sq)\n",
    "img_arr_sq = img_arr_sq * 255\n",
    "\n",
    "plt.axis('off')\n",
    "plt.imshow(img_arr_sq, cmap='gray')\n",
    "plt.colorbar()"
   ]
  },
  {
   "cell_type": "code",
   "execution_count": null,
   "metadata": {},
   "outputs": [],
   "source": []
  }
 ],
 "metadata": {
  "kernelspec": {
   "display_name": "pytorch",
   "language": "python",
   "name": "pytorch"
  },
  "language_info": {
   "codemirror_mode": {
    "name": "ipython",
    "version": 3
   },
   "file_extension": ".py",
   "mimetype": "text/x-python",
   "name": "python",
   "nbconvert_exporter": "python",
   "pygments_lexer": "ipython3",
   "version": "3.7.4"
  }
 },
 "nbformat": 4,
 "nbformat_minor": 2
}
